{
 "cells": [
  {
   "cell_type": "code",
   "execution_count": null,
   "id": "9189e40d-00ce-4394-b2b5-665a2209735d",
   "metadata": {},
   "outputs": [],
   "source": [
    "#(i) / Division. Divides the first operand by the second."
   ]
  },
  {
   "cell_type": "code",
   "execution_count": 1,
   "id": "865bd0e1-44fb-49c1-89b6-b750c8bab93a",
   "metadata": {},
   "outputs": [
    {
     "data": {
      "text/plain": [
       "0.6666666666666666"
      ]
     },
     "execution_count": 1,
     "metadata": {},
     "output_type": "execute_result"
    }
   ],
   "source": [
    "2/3"
   ]
  },
  {
   "cell_type": "code",
   "execution_count": null,
   "id": "caf844d1-7c57-4b54-9044-7c2b07022694",
   "metadata": {},
   "outputs": [],
   "source": []
  },
  {
   "cell_type": "code",
   "execution_count": null,
   "id": "49b0ebe3-12f9-463e-8888-f30a4afe3def",
   "metadata": {},
   "outputs": [],
   "source": [
    "#(ii) % Modulo. Divides the first INTEGER operand by the second, and returns the remainder."
   ]
  },
  {
   "cell_type": "code",
   "execution_count": 3,
   "id": "c027d2b4-6bd3-40aa-a817-d8bd02ad4dc0",
   "metadata": {},
   "outputs": [
    {
     "data": {
      "text/plain": [
       "1"
      ]
     },
     "execution_count": 3,
     "metadata": {},
     "output_type": "execute_result"
    }
   ],
   "source": [
    "17%4"
   ]
  },
  {
   "cell_type": "code",
   "execution_count": null,
   "id": "b3fd857f-da5a-4649-9a9e-cff8fd64bb11",
   "metadata": {},
   "outputs": [],
   "source": []
  },
  {
   "cell_type": "code",
   "execution_count": null,
   "id": "78487ab2-3eed-48c3-9eda-6b744be99fbc",
   "metadata": {},
   "outputs": [],
   "source": [
    "#(iii) // Floor Division. It is primarily used when you require an integer or need to return the smallest integer less than or equal to the input"
   ]
  },
  {
   "cell_type": "code",
   "execution_count": 5,
   "id": "3f20dc26-1f5d-420b-ae33-cafd7a6db8ea",
   "metadata": {},
   "outputs": [
    {
     "data": {
      "text/plain": [
       "4"
      ]
     },
     "execution_count": 5,
     "metadata": {},
     "output_type": "execute_result"
    }
   ],
   "source": [
    "17//4"
   ]
  },
  {
   "cell_type": "code",
   "execution_count": null,
   "id": "548774d8-4b7a-4462-82eb-6008961c90ef",
   "metadata": {},
   "outputs": [],
   "source": []
  },
  {
   "cell_type": "code",
   "execution_count": null,
   "id": "33f73bc9-7deb-4a83-bf97-ebe25946db8f",
   "metadata": {},
   "outputs": [],
   "source": [
    "#(iv) ** Exponentiation. It returns the result of raising the first operand to the power of the second operand."
   ]
  },
  {
   "cell_type": "code",
   "execution_count": 7,
   "id": "01603779-c2a5-46ff-a461-7a29f1316080",
   "metadata": {},
   "outputs": [
    {
     "data": {
      "text/plain": [
       "64"
      ]
     },
     "execution_count": 7,
     "metadata": {},
     "output_type": "execute_result"
    }
   ],
   "source": [
    "4**3"
   ]
  },
  {
   "cell_type": "code",
   "execution_count": null,
   "id": "2fab82ef-e71d-4cb9-a415-42e5acb07680",
   "metadata": {},
   "outputs": [],
   "source": []
  }
 ],
 "metadata": {
  "kernelspec": {
   "display_name": "Python 3 (ipykernel)",
   "language": "python",
   "name": "python3"
  },
  "language_info": {
   "codemirror_mode": {
    "name": "ipython",
    "version": 3
   },
   "file_extension": ".py",
   "mimetype": "text/x-python",
   "name": "python",
   "nbconvert_exporter": "python",
   "pygments_lexer": "ipython3",
   "version": "3.10.8"
  }
 },
 "nbformat": 4,
 "nbformat_minor": 5
}
