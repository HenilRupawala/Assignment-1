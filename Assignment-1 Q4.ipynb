{
 "cells": [
  {
   "cell_type": "code",
   "execution_count": 4,
   "id": "b27c9b18-f1d7-46f0-a854-0c309074511d",
   "metadata": {},
   "outputs": [
    {
     "name": "stdout",
     "output_type": "stream",
     "text": [
      "Python <class 'str'>\n",
      "20 <class 'int'>\n",
      "45.56 <class 'float'>\n",
      "True <class 'bool'>\n",
      "(1+2j) <class 'complex'>\n",
      "Data Science <class 'str'>\n",
      "1.01 <class 'float'>\n",
      "999 <class 'int'>\n",
      "(4+9j) <class 'complex'>\n",
      "False <class 'bool'>\n"
     ]
    }
   ],
   "source": [
    "list = ['Python', 20, 45.56, True, 1+2j, 'Data Science', 1.01, 999, 4+9j, False]\n",
    "\n",
    "for l in list:\n",
    "    print(l, type(l))"
   ]
  },
  {
   "cell_type": "code",
   "execution_count": null,
   "id": "e53d11be-2ef8-4c93-87bd-56fd8873cfd3",
   "metadata": {},
   "outputs": [],
   "source": []
  }
 ],
 "metadata": {
  "kernelspec": {
   "display_name": "Python 3 (ipykernel)",
   "language": "python",
   "name": "python3"
  },
  "language_info": {
   "codemirror_mode": {
    "name": "ipython",
    "version": 3
   },
   "file_extension": ".py",
   "mimetype": "text/x-python",
   "name": "python",
   "nbconvert_exporter": "python",
   "pygments_lexer": "ipython3",
   "version": "3.10.8"
  }
 },
 "nbformat": 4,
 "nbformat_minor": 5
}
