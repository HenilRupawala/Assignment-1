{
 "cells": [
  {
   "cell_type": "code",
   "execution_count": null,
   "id": "2fd475db-9a48-499c-895e-641aaa944a6c",
   "metadata": {},
   "outputs": [],
   "source": [
    "#Q7. Mutable data types are the data types which can be change or modified at any time. For example, List"
   ]
  },
  {
   "cell_type": "code",
   "execution_count": 3,
   "id": "239f1228-e778-4f0c-a481-cfe83f105be4",
   "metadata": {},
   "outputs": [],
   "source": [
    "list = [1, 4, 6, 7, 8, 9]"
   ]
  },
  {
   "cell_type": "code",
   "execution_count": 4,
   "id": "25ea85bb-aa69-46b3-9efa-80706142b5fe",
   "metadata": {},
   "outputs": [],
   "source": [
    "list[3] = 2"
   ]
  },
  {
   "cell_type": "code",
   "execution_count": 6,
   "id": "139e3eeb-cec8-4de3-9dbf-c6487fcd18ec",
   "metadata": {},
   "outputs": [
    {
     "data": {
      "text/plain": [
       "[1, 4, 6, 2, 8, 9]"
      ]
     },
     "execution_count": 6,
     "metadata": {},
     "output_type": "execute_result"
    }
   ],
   "source": [
    "list"
   ]
  },
  {
   "cell_type": "code",
   "execution_count": null,
   "id": "6c27ade8-f628-459d-87f7-73ee18dc162f",
   "metadata": {},
   "outputs": [],
   "source": []
  },
  {
   "cell_type": "code",
   "execution_count": null,
   "id": "2cac975e-8b1a-41ed-b376-02d95dd4c462",
   "metadata": {},
   "outputs": [],
   "source": [
    "# Immutable data types are the data types which can not be change or modified once it created. For example, string"
   ]
  },
  {
   "cell_type": "code",
   "execution_count": 7,
   "id": "700d2d8e-a7d7-46e5-afaf-1ebab386daf8",
   "metadata": {},
   "outputs": [],
   "source": [
    "name = 'Henil'"
   ]
  },
  {
   "cell_type": "code",
   "execution_count": 8,
   "id": "d6526dbd-cdbe-4876-b024-52db87b2c909",
   "metadata": {},
   "outputs": [
    {
     "ename": "TypeError",
     "evalue": "'str' object does not support item assignment",
     "output_type": "error",
     "traceback": [
      "\u001b[0;31m---------------------------------------------------------------------------\u001b[0m",
      "\u001b[0;31mTypeError\u001b[0m                                 Traceback (most recent call last)",
      "Cell \u001b[0;32mIn[8], line 1\u001b[0m\n\u001b[0;32m----> 1\u001b[0m \u001b[43mname\u001b[49m\u001b[43m[\u001b[49m\u001b[38;5;241;43m2\u001b[39;49m\u001b[43m]\u001b[49m \u001b[38;5;241m=\u001b[39m \u001b[38;5;124m'\u001b[39m\u001b[38;5;124mm\u001b[39m\u001b[38;5;124m'\u001b[39m\n",
      "\u001b[0;31mTypeError\u001b[0m: 'str' object does not support item assignment"
     ]
    }
   ],
   "source": [
    "name[2] = 'm'"
   ]
  },
  {
   "cell_type": "code",
   "execution_count": null,
   "id": "916fa58d-555f-4fa7-9da1-9c66c76507a2",
   "metadata": {},
   "outputs": [],
   "source": []
  },
  {
   "cell_type": "code",
   "execution_count": null,
   "id": "4fc5f5b3-c8f3-4a54-8909-9a28c871b649",
   "metadata": {},
   "outputs": [],
   "source": []
  },
  {
   "cell_type": "code",
   "execution_count": null,
   "id": "ae1a16ba-357d-4737-9d96-a0a4c28be6b3",
   "metadata": {},
   "outputs": [],
   "source": []
  },
  {
   "cell_type": "code",
   "execution_count": null,
   "id": "c8b60003-6438-42d6-bb9e-bb5924c738b9",
   "metadata": {},
   "outputs": [],
   "source": []
  }
 ],
 "metadata": {
  "kernelspec": {
   "display_name": "Python 3 (ipykernel)",
   "language": "python",
   "name": "python3"
  },
  "language_info": {
   "codemirror_mode": {
    "name": "ipython",
    "version": 3
   },
   "file_extension": ".py",
   "mimetype": "text/x-python",
   "name": "python",
   "nbconvert_exporter": "python",
   "pygments_lexer": "ipython3",
   "version": "3.10.8"
  }
 },
 "nbformat": 4,
 "nbformat_minor": 5
}
