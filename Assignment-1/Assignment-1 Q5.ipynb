{
 "cells": [
  {
   "cell_type": "code",
   "execution_count": null,
   "id": "c6c7b0af-1d8e-49d8-95c4-a4ebd01433b2",
   "metadata": {},
   "outputs": [],
   "source": [
    "a = int(input('Enter the Number a:' ))\n",
    "b = int(input('Enter the Number b:' ))\n",
    "\n",
    "count = 0\n",
    "while a % b == 0:\n",
    "    count += 1  \n",
    "    a = a / b\n",
    "\n",
    "if count > 0:\n",
    "    print(f\"{a} can be divided by {b} {count} times\")\n",
    "else:\n",
    "    print(f\"{a} is not divisible by {b}\")"
   ]
  }
 ],
 "metadata": {
  "kernelspec": {
   "display_name": "Python 3 (ipykernel)",
   "language": "python",
   "name": "python3"
  },
  "language_info": {
   "codemirror_mode": {
    "name": "ipython",
    "version": 3
   },
   "file_extension": ".py",
   "mimetype": "text/x-python",
   "name": "python",
   "nbconvert_exporter": "python",
   "pygments_lexer": "ipython3",
   "version": "3.10.8"
  }
 },
 "nbformat": 4,
 "nbformat_minor": 5
}
