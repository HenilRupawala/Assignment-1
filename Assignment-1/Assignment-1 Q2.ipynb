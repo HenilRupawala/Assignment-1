{
 "cells": [
  {
   "cell_type": "code",
   "execution_count": null,
   "id": "8f61de86-7ad4-4bb7-bacb-94757de93594",
   "metadata": {},
   "outputs": [],
   "source": [
    "#Q2. Answer"
   ]
  },
  {
   "cell_type": "code",
   "execution_count": 31,
   "id": "5692f97d-5e44-4c5c-8350-82b0cbaa70b4",
   "metadata": {},
   "outputs": [],
   "source": [
    "var1 = '' #string"
   ]
  },
  {
   "cell_type": "code",
   "execution_count": 32,
   "id": "4bf4af73-7735-4dcd-9346-9989588aa2c0",
   "metadata": {},
   "outputs": [],
   "source": [
    "var2 = '[ DS , ML , Python]' #string"
   ]
  },
  {
   "cell_type": "code",
   "execution_count": 33,
   "id": "15c1a585-3ab7-4a89-b7c5-67c94e40738c",
   "metadata": {},
   "outputs": [],
   "source": [
    "var3 = ['DS', 'ML', 'Python'] #list"
   ]
  },
  {
   "cell_type": "code",
   "execution_count": 37,
   "id": "97ae301f-5e5a-4197-bee2-1beef000579c",
   "metadata": {},
   "outputs": [],
   "source": [
    "var4 = 1. #float"
   ]
  }
 ],
 "metadata": {
  "kernelspec": {
   "display_name": "Python 3 (ipykernel)",
   "language": "python",
   "name": "python3"
  },
  "language_info": {
   "codemirror_mode": {
    "name": "ipython",
    "version": 3
   },
   "file_extension": ".py",
   "mimetype": "text/x-python",
   "name": "python",
   "nbconvert_exporter": "python",
   "pygments_lexer": "ipython3",
   "version": "3.10.8"
  }
 },
 "nbformat": 4,
 "nbformat_minor": 5
}
