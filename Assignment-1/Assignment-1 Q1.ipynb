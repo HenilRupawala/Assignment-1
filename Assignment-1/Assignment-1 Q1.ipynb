{
 "cells": [
  {
   "cell_type": "code",
   "execution_count": null,
   "id": "7cb2b34e-e60d-4f3d-ade6-4e843b214561",
   "metadata": {},
   "outputs": [],
   "source": [
    "#Q1. Answer"
   ]
  },
  {
   "cell_type": "code",
   "execution_count": 26,
   "id": "d35d17cc-be37-4621-a786-ea8600111e63",
   "metadata": {},
   "outputs": [],
   "source": [
    "a = 'Maja aagaya' #string"
   ]
  },
  {
   "cell_type": "code",
   "execution_count": 27,
   "id": "571ba347-c921-4ee4-829c-4920b5703eb3",
   "metadata": {
    "tags": []
   },
   "outputs": [],
   "source": [
    "b = [1, 'Sudhanshu Sir', True, 9+1j, 23.45] #list"
   ]
  },
  {
   "cell_type": "code",
   "execution_count": 28,
   "id": "63887b6e-093a-4fbe-a708-70856578d6d4",
   "metadata": {},
   "outputs": [],
   "source": [
    "c = 75.45 #float"
   ]
  },
  {
   "cell_type": "code",
   "execution_count": 29,
   "id": "13f45d5a-8d59-4146-8dbd-4e08c6f92db9",
   "metadata": {},
   "outputs": [],
   "source": [
    "d = (12, 'Henil', True, 9.50) #tuple"
   ]
  }
 ],
 "metadata": {
  "kernelspec": {
   "display_name": "Python 3 (ipykernel)",
   "language": "python",
   "name": "python3"
  },
  "language_info": {
   "codemirror_mode": {
    "name": "ipython",
    "version": 3
   },
   "file_extension": ".py",
   "mimetype": "text/x-python",
   "name": "python",
   "nbconvert_exporter": "python",
   "pygments_lexer": "ipython3",
   "version": "3.10.8"
  }
 },
 "nbformat": 4,
 "nbformat_minor": 5
}
