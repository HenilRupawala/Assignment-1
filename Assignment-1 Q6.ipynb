{
 "cells": [
  {
   "cell_type": "code",
   "execution_count": 5,
   "id": "3a74e14e-487c-4940-8e7d-39fff043e165",
   "metadata": {},
   "outputs": [
    {
     "name": "stdout",
     "output_type": "stream",
     "text": [
      "3 is divisible by 3\n",
      "6 is divisible by 3\n",
      "9 is divisible by 3\n",
      "12 is divisible by 3\n",
      "18 is divisible by 3\n",
      "21 is divisible by 3\n",
      "27 is divisible by 3\n",
      "33 is divisible by 3\n",
      "36 is divisible by 3\n",
      "39 is divisible by 3\n",
      "45 is divisible by 3\n",
      "48 is divisible by 3\n"
     ]
    }
   ],
   "source": [
    "list = [3, 5, 6, 9, 12, 14, 17, 18, 20, 21, 25, 26, 27, 31, 33, 34, 36, 38, 39, 40, 41, 44, 45, 46, 48]\n",
    "\n",
    "for n in list:\n",
    "    if n % 3 == 0:\n",
    "        print(f'{n} is divisible by 3')"
   ]
  },
  {
   "cell_type": "code",
   "execution_count": null,
   "id": "a65409e8-86d8-4094-9aea-55273a7957cc",
   "metadata": {},
   "outputs": [],
   "source": []
  },
  {
   "cell_type": "code",
   "execution_count": null,
   "id": "29da3a51-f3a5-44af-9ba7-c95389640932",
   "metadata": {},
   "outputs": [],
   "source": []
  }
 ],
 "metadata": {
  "kernelspec": {
   "display_name": "Python 3 (ipykernel)",
   "language": "python",
   "name": "python3"
  },
  "language_info": {
   "codemirror_mode": {
    "name": "ipython",
    "version": 3
   },
   "file_extension": ".py",
   "mimetype": "text/x-python",
   "name": "python",
   "nbconvert_exporter": "python",
   "pygments_lexer": "ipython3",
   "version": "3.10.8"
  }
 },
 "nbformat": 4,
 "nbformat_minor": 5
}
